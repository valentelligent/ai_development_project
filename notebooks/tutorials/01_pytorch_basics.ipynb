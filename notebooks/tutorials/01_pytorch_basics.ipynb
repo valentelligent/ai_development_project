{
 "cells": [
  {
   "cell_type": "code",
   "execution_count": null,
   "metadata": {},
   "outputs": [],
   "source": [
    "import torch\n",
    "import numpy as np\n",
    "\n",
    "def tensor_basics_tutorial():\n",
    "    \"\"\"\n",
    "    Basic PyTorch tensor operations tutorial\n",
    "    \"\"\"\n",
    "    print(\"PyTorch Tensor Basics\\n\")\n",
    "\n",
    "    # Creating tensors\n",
    "    print(\"1. Creating Tensors:\")\n",
    "    x = torch.tensor([[1, 2, 3], [4, 5, 6]])\n",
    "    print(f\"Basic tensor:\\n{x}\")\n",
    "    print(f\"Shape: {x.shape}\")\n",
    "    print(f\"Data type: {x.dtype}\\n\")\n",
    "\n",
    "    # GPU Transfer\n",
    "    print(\"2. GPU Operations:\")\n",
    "    if torch.cuda.is_available():\n",
    "        x_gpu = x.cuda()\n",
    "        print(f\"Tensor on GPU: {x_gpu.device}\")\n",
    "\n",
    "    # Basic Operations\n",
    "    print(\"\\n3. Basic Operations:\")\n",
    "    y = torch.tensor([[1, 0, 1], [0, 1, 0]], dtype=torch.float32)\n",
    "    z = torch.matmul(x.float(), y.t())\n",
    "    print(f\"Matrix multiplication result:\\n{z}\\n\")\n",
    "\n",
    "    # Autograd Example\n",
    "    print(\"4. Autograd Example:\")\n",
    "    x = torch.randn(3, requires_grad=True)\n",
    "    y = x * 2\n",
    "    z = y.mean()\n",
    "    z.backward()\n",
    "    print(f\"Gradient of x: {x.grad}\\n\")\n",
    "\n",
    "    return \"Tutorial completed successfully!\"\n",
    "\n",
    "if __name__ == \"__main__\":\n",
    "    tensor_basics_tutorial()"
   ]
  }
 ],
 "metadata": {
  "language_info": {
   "name": "python"
  }
 },
 "nbformat": 4,
 "nbformat_minor": 2
}
